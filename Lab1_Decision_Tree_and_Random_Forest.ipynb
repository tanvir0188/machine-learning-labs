{
  "nbformat": 4,
  "nbformat_minor": 0,
  "metadata": {
    "colab": {
      "provenance": []
    },
    "kernelspec": {
      "name": "python3",
      "display_name": "Python 3"
    },
    "language_info": {
      "name": "python"
    }
  },
  "cells": [
    {
      "cell_type": "code",
      "execution_count": null,
      "metadata": {
        "id": "cx7k8EN9U1HR"
      },
      "outputs": [],
      "source": []
    },
    {
      "cell_type": "markdown",
      "source": [
        "## Lab 1 - Decision Tree"
      ],
      "metadata": {
        "id": "Qy2gZ3VdU_B4"
      }
    },
    {
      "cell_type": "code",
      "source": [
        "import pandas as pd\n",
        "import numpy as np\n",
        "from sklearn.tree import DecisionTreeClassifier, plot_tree\n",
        "import matplotlib.pyplot as plt\n",
        "import pandas as pd\n",
        "from sklearn import tree\n",
        "from sklearn.datasets import load_breast_cancer\n",
        "from sklearn.ensemble import RandomForestClassifier\n",
        "from sklearn.model_selection import train_test_split\n",
        "from sklearn.metrics import accuracy_score, classification_report\n",
        "import matplotlib.pyplot as plt"
      ],
      "metadata": {
        "id": "eSWGy7A0VDco"
      },
      "execution_count": null,
      "outputs": []
    },
    {
      "cell_type": "markdown",
      "source": [
        "Load iris data set"
      ],
      "metadata": {
        "id": "VTEU9WG_VLZg"
      }
    },
    {
      "cell_type": "code",
      "source": [
        "from sklearn.datasets import load_iris\n",
        "iris = load_iris()"
      ],
      "metadata": {
        "id": "GQyDrHcYVKXX"
      },
      "execution_count": null,
      "outputs": []
    },
    {
      "cell_type": "markdown",
      "source": [
        "Analyze the dataset"
      ],
      "metadata": {
        "id": "uzbsq_RBWDSU"
      }
    },
    {
      "cell_type": "code",
      "source": [
        "# Convert the data to a pandas dataframe\n",
        "df = pd.DataFrame(iris.data, columns=iris.feature_names)\n",
        "# Add the target column\n",
        "df['species'] = iris.target\n",
        "# Check the shape and summary of the data\n",
        "print(df.shape)\n",
        "print(df.describe())\n",
        "# Check the distribution of the target classes\n",
        "print(df['species'].value_counts())\n",
        "# Plot the pairwise scatter plot of the features\n",
        "pd.plotting.scatter_matrix(df, figsize=(12, 8), diagonal='kde')\n",
        "plt.show()"
      ],
      "metadata": {
        "id": "MVcqj7tcVr6b"
      },
      "execution_count": null,
      "outputs": []
    },
    {
      "cell_type": "markdown",
      "source": [
        "Split the dataset into train and test. Fix the error in below code"
      ],
      "metadata": {
        "id": "ZEFhj9iqWKi0"
      }
    },
    {
      "cell_type": "code",
      "source": [
        "from sklearn.model_selection import train_test_split\n",
        "# Define the features and the target\n",
        "X = df.drop('target', axis=1)\n",
        "y = df['target']\n",
        "# Split the data into 80% train and 20% test\n",
        "X_train, X_test, y_train, y_test = train_test_split(X, y, test_size=0.2, random_state=42)"
      ],
      "metadata": {
        "id": "l-Y7HtocVyJj"
      },
      "execution_count": null,
      "outputs": []
    },
    {
      "cell_type": "markdown",
      "source": [
        "Train and test"
      ],
      "metadata": {
        "id": "LjUV3YIyWPsE"
      }
    },
    {
      "cell_type": "code",
      "source": [
        "# Create a decision tree classifier with gini criterion and maximum depth of 3\n",
        "dt = DecisionTreeClassifier(criterion='gini', max_depth=3, random_state=42)\n",
        "# Fit the model on the train data\n",
        "dt.fit(X_train, y_train)\n",
        "# Make predictions on the test data\n",
        "y_pred = dt.predict(X_test)"
      ],
      "metadata": {
        "id": "wrFsvnuxV6o8"
      },
      "execution_count": null,
      "outputs": []
    },
    {
      "cell_type": "markdown",
      "source": [
        "Show the results"
      ],
      "metadata": {
        "id": "hUJhCCU2WTQc"
      }
    },
    {
      "cell_type": "code",
      "source": [
        "from sklearn.metrics import accuracy_score, precision_score, recall_score, f1_score, confusion_matrix, classification_report\n",
        "# Calculate the accuracy, precision, recall, and f1-score\n",
        "acc = accuracy_score(y_test, y_pred)\n",
        "prec = precision_score(y_test, y_pred, average='macro')\n",
        "rec = recall_score(y_test, y_pred, average='macro')\n",
        "f1 = f1_score(y_test, y_pred, average='macro')\n",
        "# Print the results\n",
        "print(f\"Accuracy: {acc:.2f}\")\n",
        "print(f\"Precision: {prec:.2f}\")\n",
        "print(f\"Recall: {rec:.2f}\")\n",
        "print(f\"F1-score: {f1:.2f}\")\n",
        "# Plot the confusion matrix\n",
        "cm = confusion_matrix(y_test, y_pred)\n",
        "plt.imshow(cm, cmap='Blues')\n",
        "plt.xlabel('Predicted')\n",
        "plt.ylabel('Actual')\n",
        "plt.title('Confusion Matrix')\n",
        "plt.colorbar()\n",
        "plt.show()\n",
        "# Print the classification report\n",
        "print(classification_report(y_test, y_pred))"
      ],
      "metadata": {
        "id": "dT1Bxm5fWAr8"
      },
      "execution_count": null,
      "outputs": []
    },
    {
      "cell_type": "markdown",
      "source": [
        "Plot the tree"
      ],
      "metadata": {
        "id": "yzEVfq8dWZiD"
      }
    },
    {
      "cell_type": "code",
      "source": [
        "# Plot the decision tree\n",
        "plt.figure(figsize=(12, 8))\n",
        "plot_tree(dt, feature_names=iris.feature_names, class_names=iris.target_names, filled=True)\n",
        "plt.title('Decision Tree')\n",
        "plt.show()"
      ],
      "metadata": {
        "id": "tLQx-fvoWa77"
      },
      "execution_count": null,
      "outputs": []
    },
    {
      "cell_type": "markdown",
      "source": [
        "# Random Forest"
      ],
      "metadata": {
        "id": "rRwpT3vmX3Bb"
      }
    },
    {
      "cell_type": "code",
      "source": [
        "# Load the breast cancer dataset\n",
        "data = load_breast_cancer()\n",
        "X, y = data.data, data.target"
      ],
      "metadata": {
        "id": "PXMDUOjRX73R"
      },
      "execution_count": null,
      "outputs": []
    },
    {
      "cell_type": "code",
      "source": [
        "# Convert the data to a Pandas DataFrame\n",
        "df = pd.DataFrame(data.data, columns=data.feature_names)\n",
        "print(df.head())\n",
        "# Describe the dataset\n",
        "#description = df.describe()\n",
        "#print(description)\n",
        "# Plot the pairwise scatter plot of the features\n",
        "#pd.plotting.scatter_matrix(df, figsize=(12, 8), diagonal='kde')\n",
        "#plt.show()"
      ],
      "metadata": {
        "id": "n52zXqFyX-ic"
      },
      "execution_count": null,
      "outputs": []
    },
    {
      "cell_type": "code",
      "source": [
        "df['target'] = data.target\n",
        "X = df.loc[:, df.columns != 'target']\n",
        "y = df.loc[:, 'target'].values"
      ],
      "metadata": {
        "id": "BOmvTY1ZYBJj"
      },
      "execution_count": null,
      "outputs": []
    },
    {
      "cell_type": "code",
      "source": [
        "# Split the data into training and testing sets\n",
        "X_train, X_test, y_train, y_test = train_test_split(X, y, test_size=0.2, random_state=42)"
      ],
      "metadata": {
        "id": "ls77V_feYD40"
      },
      "execution_count": null,
      "outputs": []
    },
    {
      "cell_type": "code",
      "source": [
        "# Create a random forest classifier\n",
        "rf_classifier = RandomForestClassifier(n_estimators=100, random_state=42)"
      ],
      "metadata": {
        "id": "JV4hb2ISYF9c"
      },
      "execution_count": null,
      "outputs": []
    },
    {
      "cell_type": "code",
      "source": [
        "# Train the model\n",
        "rf_classifier.fit(X_train, y_train)"
      ],
      "metadata": {
        "id": "wCgI1TNyYHo8"
      },
      "execution_count": null,
      "outputs": []
    },
    {
      "cell_type": "code",
      "source": [
        "# Make predictions\n",
        "y_pred = rf_classifier.predict(X_test)"
      ],
      "metadata": {
        "id": "y5sMYje8YKl7"
      },
      "execution_count": null,
      "outputs": []
    },
    {
      "cell_type": "code",
      "source": [
        "# Evaluate performance\n",
        "accuracy = accuracy_score(y_test, y_pred)\n",
        "report = classification_report(y_test, y_pred)"
      ],
      "metadata": {
        "id": "i96wUNDHYMub"
      },
      "execution_count": null,
      "outputs": []
    },
    {
      "cell_type": "code",
      "source": [
        "plt.figure(figsize=(20, 20))\n",
        "_ = tree.plot_tree(rf_classifier.estimators_[0], feature_names=X.columns, filled=True)\n",
        "plt.show()"
      ],
      "metadata": {
        "id": "lZSgwtceYO6j"
      },
      "execution_count": null,
      "outputs": []
    },
    {
      "cell_type": "code",
      "source": [],
      "metadata": {
        "id": "U5fWfB7JYYt0"
      },
      "execution_count": null,
      "outputs": []
    },
    {
      "cell_type": "markdown",
      "source": [
        "Classify Mushroom Using Decision Tree and Random Forest.\n",
        "\n",
        "Dataset: https://archive.ics.uci.edu/dataset/73/mushroom\n",
        "\n",
        "Submit:\n",
        "\n",
        "\n",
        "1.   Submit your github link.\n",
        "2.   Perform Exploratory Data Analysis (EDA) on the dataset.\n",
        "3.   Evaluate and compare Random Forest tree accuracy for the folowing n_estimators values 1,50,100,150,200, and 250.\n",
        "4.   Evaluate and compare performance of Random Forest and Decision Tree.\n",
        "5.   Submit a report of EDA and results of tasks 3 and 4.\n",
        "\n"
      ],
      "metadata": {
        "id": "1l2RL1D7YZAU"
      }
    }
  ]
}